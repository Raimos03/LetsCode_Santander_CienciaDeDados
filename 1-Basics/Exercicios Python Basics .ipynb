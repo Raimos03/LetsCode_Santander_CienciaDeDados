{
 "cells": [
  {
   "cell_type": "markdown",
   "id": "61e572f6",
   "metadata": {},
   "source": [
    "# Python Basics - Exercicios"
   ]
  },
  {
   "cell_type": "markdown",
   "id": "0706b557",
   "metadata": {},
   "source": [
    "#### 1 - Faça um programa que peça um valor monetário e diminua-o em 15%. Seu programa deve imprimir a mensagem “O novo valor é [valor]”."
   ]
  },
  {
   "cell_type": "code",
   "execution_count": 6,
   "id": "d2437a62",
   "metadata": {},
   "outputs": [
    {
     "name": "stdout",
     "output_type": "stream",
     "text": [
      "Digite o valor monetario:\n",
      "100\n",
      "O novo valor e: 85.00 \n",
      "\n"
     ]
    }
   ],
   "source": [
    "valor = float(input(\"Digite o valor monetario:\\n\"))\n",
    "print(f'O novo valor e: {valor*0.85:.2f} \\n')"
   ]
  },
  {
   "cell_type": "markdown",
   "id": "21012f0a",
   "metadata": {},
   "source": [
    "#### 2 - Faça um programa que leia a validade das informações: \n",
    "a. Idade: entre 0 e 150, <br>\n",
    "b. Salário: maior que 0, <br>\n",
    "c. Sexo: M, F ou Outro, <br>\n",
    "O programa deve imprimir uma mensagem de erro para cada informação inválida.<br>"
   ]
  },
  {
   "cell_type": "code",
   "execution_count": null,
   "id": "67ff0191",
   "metadata": {},
   "outputs": [],
   "source": [
    "\n",
    "\n",
    "idade=int(input(\"Digite o valor entre 0 e 150:\\n\"))\n",
    "salario=float(input(\"Digite o salario:\\n\"))\n",
    "sexo=input(\"Digite o sexo: M,F ou Outro:\\n\")\n",
    "sexo=sexo.lower()\n",
    "\n",
    "if (idade <0 or idade>150):\n",
    "    print(\"Valor invalido para idade. Digite novamente.\")\n",
    "\n",
    "elif (salario<0):\n",
    "    print(\"Valor invalido para salario. Digite novamente.\")\n",
    "\n",
    "elif (sexo !=('m') or sexo !='f' or sexo !='outro'):\n",
    "    print(\"Valor invalido para Sexo. Digite novamente F,M ou Outro.\")\n",
    "    \n",
    "else:\n",
    "    \n",
    "    print(f'Idade:{idade}\\nSalario:{salario}\\nSexo: {sexo}\\n');\n",
    "         \n"
   ]
  },
  {
   "cell_type": "code",
   "execution_count": null,
   "id": "599cc2ca",
   "metadata": {},
   "outputs": [],
   "source": []
  }
 ],
 "metadata": {
  "kernelspec": {
   "display_name": "Python 3 (ipykernel)",
   "language": "python",
   "name": "python3"
  },
  "language_info": {
   "codemirror_mode": {
    "name": "ipython",
    "version": 3
   },
   "file_extension": ".py",
   "mimetype": "text/x-python",
   "name": "python",
   "nbconvert_exporter": "python",
   "pygments_lexer": "ipython3",
   "version": "3.9.12"
  }
 },
 "nbformat": 4,
 "nbformat_minor": 5
}
