{
 "cells": [
  {
   "cell_type": "markdown",
   "id": "61e572f6",
   "metadata": {},
   "source": [
    "# Python Basics - Exercicios"
   ]
  },
  {
   "cell_type": "markdown",
   "id": "0706b557",
   "metadata": {},
   "source": [
    "#### 1 - Faça um programa que peça um valor monetário e diminua-o em 15%. Seu programa deve imprimir a mensagem “O novo valor é [valor]”."
   ]
  },
  {
   "cell_type": "code",
   "execution_count": 6,
   "id": "d2437a62",
   "metadata": {},
   "outputs": [
    {
     "name": "stdout",
     "output_type": "stream",
     "text": [
      "Digite o valor monetario:\n",
      "100\n",
      "O novo valor e: 85.00 \n",
      "\n"
     ]
    }
   ],
   "source": [
    "valor = float(input(\"Digite o valor monetario:\\n\"))\n",
    "print(f'O novo valor e: {valor*0.85:.2f} \\n')"
   ]
  },
  {
   "cell_type": "markdown",
   "id": "21012f0a",
   "metadata": {},
   "source": [
    "#### 2 - Faça um programa que leia a validade das informações: \n",
    "a. Idade: entre 0 e 150, <br>\n",
    "b. Salário: maior que 0, <br>\n",
    "c. Sexo: M, F ou Outro, <br>\n",
    "O programa deve imprimir uma mensagem de erro para cada informação inválida.<br>"
   ]
  },
  {
   "cell_type": "code",
   "execution_count": 51,
   "id": "62282f4b",
   "metadata": {},
   "outputs": [
    {
     "name": "stdout",
     "output_type": "stream",
     "text": [
      "Digite o valor entre 0 e 150:\n",
      "160\n",
      "Digite o salario:\n",
      "0\n",
      "Digite o sexo: M,F ou Outro:\n",
      "k\n",
      "\n",
      "*** Valor invalido para idade. Digite novamente.\n",
      "*** Valor invalido para salario. Digite novamente.\n",
      "*** Valor invalido para sexo. Digite novamente F,M ou Outro. \n",
      "\n"
     ]
    }
   ],
   "source": [
    "def validaInfo(r):\n",
    "    i=1\n",
    "    \n",
    "    idade,salario,sexo=r;\n",
    "    \n",
    "    if (idade < 0 or idade >150):\n",
    "        print(\"\\n*** Valor invalido para idade. Digite novamente.\")\n",
    "        i=0\n",
    "\n",
    "    if (salario<=0):\n",
    "        print(\"*** Valor invalido para salario. Digite novamente.\")\n",
    "        i=0\n",
    "\n",
    "    if (sexo not in [\"m\",\"f\",\"outro\"]):\n",
    "        print(\"*** Valor invalido para sexo. Digite novamente F,M ou Outro. \\n\")\n",
    "        i=0\n",
    "        \n",
    "    return i\n",
    "        \n",
    "        \n",
    "idade=int(input(\"Digite o valor entre 0 e 150:\\n\"))\n",
    "salario=float(input(\"Digite o salario:\\n\"))\n",
    "sexo=input(\"Digite o sexo: M,F ou Outro:\\n\").lower()\n",
    "#sexo=sexo.lower()\n",
    "\n",
    "if(validaInfo((idade,salario,sexo))):\n",
    "    \n",
    "    print(f'\\tIdade:{idade}\\n\\tSalario:{salario}\\n\\tSexo: {sexo}\\n');\n",
    "        \n",
    "\n",
    "         \n"
   ]
  },
  {
   "cell_type": "markdown",
   "id": "84a61952",
   "metadata": {},
   "source": [
    "#### 3 - Vamos fazer um programa para verificar quem é o assassino de um crime. <br>Para descobrir o assassino, a polícia faz um pequeno questionário com 5  perguntas onde a resposta só pode ser sim ou não: \n",
    "a. Mora perto da vítima?<br>b. Já trabalhou com a vítima? <br> c. Telefonou para a vítima? <br> d. Esteve no local do crime? <br>e. Devia para a vítima?\n",
    "\n",
    "Cada resposta sim dá um ponto para o suspeito. A polícia considera que os\n",
    "suspeitos com 5 pontos são os assassinos, com 4 a 3 pontos são cúmplices e\n",
    "2 pontos são apenas suspeitos, necessitando outras investigações. Valores\n",
    "iguais ou abaixo de 1 são liberados."
   ]
  },
  {
   "cell_type": "code",
   "execution_count": 50,
   "id": "413f5042",
   "metadata": {},
   "outputs": [
    {
     "name": "stdout",
     "output_type": "stream",
     "text": [
      "Mora perto da vítima?nao\n",
      "Já trabalhou com a vítima?nao\n",
      "Telefonou para a vítima?nao\n",
      "Telefonou para a vítima?nao\n",
      "Esteve no local do crime?nao\n",
      ">> Liberados <<\n"
     ]
    }
   ],
   "source": [
    "a=input(\"Mora perto da vítima?\").lower()\n",
    "b=input(\"Já trabalhou com a vítima?\").lower()\n",
    "c=input(\"Telefonou para a vítima?\").lower()\n",
    "d=input(\"Telefonou para a vítima?\").lower()\n",
    "e=input(\"Esteve no local do crime?\").lower()\n",
    "\n",
    "qtd = [a,b,c,d,e].count(\"sim\")\n",
    "\n",
    "if(qtd==5):\n",
    "    print(\">> Assassino! <<\")\n",
    "elif(qtd>2):\n",
    "     print(\">> Cumplices <<\")\n",
    "elif(qtd>1):\n",
    "     print(\">> Suspeitos. Necessita mais investigacao <<\")\n",
    "else:\n",
    "     print(\">> Liberados <<\")\n",
    "   "
   ]
  }
 ],
 "metadata": {
  "kernelspec": {
   "display_name": "Python 3 (ipykernel)",
   "language": "python",
   "name": "python3"
  },
  "language_info": {
   "codemirror_mode": {
    "name": "ipython",
    "version": 3
   },
   "file_extension": ".py",
   "mimetype": "text/x-python",
   "name": "python",
   "nbconvert_exporter": "python",
   "pygments_lexer": "ipython3",
   "version": "3.9.12"
  }
 },
 "nbformat": 4,
 "nbformat_minor": 5
}
