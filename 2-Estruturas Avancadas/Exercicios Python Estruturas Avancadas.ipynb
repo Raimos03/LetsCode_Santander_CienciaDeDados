{
 "cells": [
  {
   "cell_type": "markdown",
   "id": "3cfb0bba",
   "metadata": {},
   "source": [
    "#### 1 - Faça um programa que olhe todos os itens de uma lista e diga quantos deles são pares."
   ]
  },
  {
   "cell_type": "code",
   "execution_count": 9,
   "id": "89bc845b",
   "metadata": {
    "scrolled": true
   },
   "outputs": [
    {
     "name": "stdout",
     "output_type": "stream",
     "text": [
      "Quantidade de elementos pares: 6\n"
     ]
    }
   ],
   "source": [
    "def ExibePares(l,tam,pos):\n",
    "    \n",
    "    if (l[pos]==l[tam-1]):\n",
    "        if(l[pos]%2==0):\n",
    "            return 1   \n",
    "        return 0\n",
    "    \n",
    "    if(l[pos]%2==0):\n",
    "        return 1 + ExibePares(l,tam,pos+1)\n",
    "        \n",
    "    return 0 + ExibePares(l,tam,pos+1)\n",
    "\n",
    "\n",
    "ln=[0,1,3,4,5,7,9,12,15,16,18,20,51,77]\n",
    "\n",
    "print(\"Quantidade de elementos pares:\",ExibePares(ln,len(ln),0));"
   ]
  },
  {
   "cell_type": "markdown",
   "id": "7f59ef53",
   "metadata": {},
   "source": [
    "#### 2 - Faça um programa que peça para o usuário digitar uma palavra e imprima cada letra em uma linha."
   ]
  },
  {
   "cell_type": "code",
   "execution_count": 12,
   "id": "ebca233c",
   "metadata": {},
   "outputs": [
    {
     "name": "stdout",
     "output_type": "stream",
     "text": [
      "Digite uma palavra\n",
      "impossivel\n",
      "<i>\n",
      "<m>\n",
      "<p>\n",
      "<o>\n",
      "<s>\n",
      "<s>\n",
      "<i>\n",
      "<v>\n",
      "<e>\n",
      "<l>\n"
     ]
    }
   ],
   "source": [
    "palavra= input(\"Digite uma palavra\\n\")\n",
    "\n",
    "for letra in palavra:\n",
    "    print(f'<{letra}>');"
   ]
  },
  {
   "cell_type": "markdown",
   "id": "9929833e",
   "metadata": {},
   "source": [
    "#### 3 - Faça uma função que recebe duas listas e retorna a soma item a item dessas listas.\n",
    "Exemplo: Se a função receber as listas [1,4,3] e [3,5,1], então a função deve\n",
    "retornar [1+3, 4+5, 3+1] = [4, 9, 4]."
   ]
  },
  {
   "cell_type": "code",
   "execution_count": 13,
   "id": "7668c143",
   "metadata": {},
   "outputs": [
    {
     "name": "stdout",
     "output_type": "stream",
     "text": [
      "[3, 14, 57, 54, 38]\n"
     ]
    }
   ],
   "source": [
    "\n",
    "def SomaListas(l1,l2):\n",
    "    nl=l1.copy()\n",
    "    for x in range(0,len(l1)):\n",
    "        nl[x]=l1[x]+l2[x]\n",
    "    \n",
    "    return nl\n",
    "\n",
    "a = [2,10,40,35,17]\n",
    "b = [1,4,17,19,21]\n",
    "\n",
    "print(SomaListas(a,b))"
   ]
  },
  {
   "cell_type": "markdown",
   "id": "6ee19d60",
   "metadata": {},
   "source": [
    "#### 4 - Crie um dicionário cujas chaves são os meses do ano e os valores são a duração (em dias) de cada mês."
   ]
  },
  {
   "cell_type": "code",
   "execution_count": 47,
   "id": "f3240819",
   "metadata": {},
   "outputs": [],
   "source": [
    "\n",
    "lmeses=['Janeiro','Fevereiro','Marco','Abril','Maio','Junho','Julho','Agosto','Setembro','Outubro','Novembro','Dezembro']\n",
    "ldias=[31,28,31,30,31,30,31,31,30,31,30,31]\n",
    "\n",
    "D= dict(zip(lmeses,ldias))\n"
   ]
  },
  {
   "cell_type": "markdown",
   "id": "2fae04fe",
   "metadata": {},
   "source": [
    "#### 5 - Imprima as chaves seguidas dos seus valores para dicionário criado no exercício anterior."
   ]
  },
  {
   "cell_type": "code",
   "execution_count": 48,
   "id": "4a28014f",
   "metadata": {},
   "outputs": [
    {
     "name": "stdout",
     "output_type": "stream",
     "text": [
      "   CHAVE - VALOR    \n",
      "Janeiro   -    31    \n",
      "Fevereiro -    28    \n",
      "Marco     -    31    \n",
      "Abril     -    30    \n",
      "Maio      -    31    \n",
      "Junho     -    30    \n",
      "Julho     -    31    \n",
      "Agosto    -    31    \n",
      "Setembro  -    30    \n",
      "Outubro   -    31    \n",
      "Novembro  -    30    \n",
      "Dezembro  -    31    \n"
     ]
    }
   ],
   "source": [
    "def ExibeDic(d):\n",
    "    \n",
    "    print(f\"{'CHAVE - VALOR' : ^20}\")\n",
    "    for chave,valor in d.items():\n",
    "        print(f'{chave :<10}-{valor:^10}')\n",
    "        \n",
    "ExibeDic(D)"
   ]
  },
  {
   "cell_type": "code",
   "execution_count": null,
   "id": "2b671b5e",
   "metadata": {},
   "outputs": [],
   "source": []
  }
 ],
 "metadata": {
  "kernelspec": {
   "display_name": "Python 3 (ipykernel)",
   "language": "python",
   "name": "python3"
  },
  "language_info": {
   "codemirror_mode": {
    "name": "ipython",
    "version": 3
   },
   "file_extension": ".py",
   "mimetype": "text/x-python",
   "name": "python",
   "nbconvert_exporter": "python",
   "pygments_lexer": "ipython3",
   "version": "3.9.12"
  }
 },
 "nbformat": 4,
 "nbformat_minor": 5
}
