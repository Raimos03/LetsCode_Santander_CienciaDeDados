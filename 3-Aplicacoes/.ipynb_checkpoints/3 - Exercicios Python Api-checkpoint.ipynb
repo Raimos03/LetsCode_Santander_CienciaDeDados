{
 "cells": [
  {
   "cell_type": "markdown",
   "id": "4f3f0ea2",
   "metadata": {},
   "source": [
    "#### 1 - Neste exercício você deve criar um programa que abra o arquivo \"alunos.csv\" e imprima o conteúdo do arquivo linha a linha."
   ]
  },
  {
   "cell_type": "code",
   "execution_count": 32,
   "id": "abafc4bc",
   "metadata": {},
   "outputs": [
    {
     "name": "stdout",
     "output_type": "stream",
     "text": [
      "['RA', 'Nome', 'Frequencia', 'Prova_1', 'Prova_2', 'Prova_3', 'Prova_4']\n",
      "['110201', 'Antonio Carlos', '20', '6.5', '8.5', '7', '6']\n",
      "['110212', 'Ana Beatriz', '20', '7', '7', '7', '8']\n",
      "['110218', 'Carlos Vernes', '17', '7', '7', '7', '7']\n",
      "['110307', 'Francisco Cunha', '20', '9', '8.5', '8.5', '10']\n",
      "['110275', 'Sandra Rosa', '15', '6.5', '7.5', '7', '7']\n",
      "['110281', 'Juliana Arruda', '18', '7.5', '7', '7.5', '8']\n",
      "['110301', 'Joao Galo', '20', '5', '6.5', '7', '5']\n",
      "['110263', 'JosÃ© Valente', '20', '10', '10', '10', '10']\n",
      "['110271', 'Maria Ferreira', '19', '9.5', '8', '7', '10']\n",
      "['110236', 'Adriana Tavares', '20', '8', '8', '8', '8']\n"
     ]
    }
   ],
   "source": [
    "import csv\n",
    "\n",
    "def ExibeCsv(nome):\n",
    "    with open(nome,\"r\") as arq_csv:\n",
    "        leitor=csv.reader(arq_csv)\n",
    "        for linha in leitor:\n",
    "            print(linha)\n",
    "    \n",
    "\n",
    "ExibeCsv(\"alunos.csv\")"
   ]
  },
  {
   "cell_type": "markdown",
   "id": "f38cf579",
   "metadata": {},
   "source": [
    "#### 2- Para o segundo exercício, você deve criar um programa que realize uma cópia do arquivo \"alunos.csv\". Essa cópia deve ser um arquivo chamado \"alunos_copia.csv\"."
   ]
  },
  {
   "cell_type": "code",
   "execution_count": 36,
   "id": "23697c06",
   "metadata": {},
   "outputs": [
    {
     "name": "stdout",
     "output_type": "stream",
     "text": [
      "['RA', 'Nome', 'Frequencia', 'Prova_1', 'Prova_2', 'Prova_3', 'Prova_4']\n",
      "['110201', 'Antonio Carlos', '20', '6.5', '8.5', '7', '6']\n",
      "['110212', 'Ana Beatriz', '20', '7', '7', '7', '8']\n",
      "['110218', 'Carlos Vernes', '17', '7', '7', '7', '7']\n",
      "['110307', 'Francisco Cunha', '20', '9', '8.5', '8.5', '10']\n",
      "['110275', 'Sandra Rosa', '15', '6.5', '7.5', '7', '7']\n",
      "['110281', 'Juliana Arruda', '18', '7.5', '7', '7.5', '8']\n",
      "['110301', 'Joao Galo', '20', '5', '6.5', '7', '5']\n",
      "['110263', 'JosÃ© Valente', '20', '10', '10', '10', '10']\n",
      "['110271', 'Maria Ferreira', '19', '9.5', '8', '7', '10']\n",
      "['110236', 'Adriana Tavares', '20', '8', '8', '8', '8']\n"
     ]
    }
   ],
   "source": [
    "with open(\"alunos.csv\",\"r\") as arq_csv:\n",
    "    leitor=csv.reader(arq_csv)\n",
    "    \n",
    "    with open(\"alunos_copia.csv\",\"w\",newline='') as arc_copia_csv: \n",
    "        copia=csv.writer(arc_copia_csv)\n",
    "        for linha in leitor:\n",
    "            copia.writerow(linha)\n",
    "        \n",
    "        arc_copia_csv.close()\n",
    "        \n",
    "    arq_csv.close()    \n",
    "    \n",
    "    \n",
    "ExibeCsv(\"alunos_copia.csv\")"
   ]
  },
  {
   "cell_type": "markdown",
   "id": "6143fcca",
   "metadata": {},
   "source": [
    "#### 3 - Finalmente chegamos ao último exercício dessa sequência relacionada à manipulação de arquivos.\n",
    "Neste exercício você deve criar um novo arquivo chamado\n",
    "\"alunos_media.csv\". Esse novo arquivo é uma cópia de \"alunos.csv\" porém\n",
    "com uma coluna a mais chamada \"Média\" que vai abrigar os valores das\n",
    "médias das provas de cada aluno da lista."
   ]
  },
  {
   "cell_type": "code",
   "execution_count": 51,
   "id": "3166781a",
   "metadata": {},
   "outputs": [
    {
     "name": "stdout",
     "output_type": "stream",
     "text": [
      "['RA', 'Nome', 'Frequencia', 'Prova_1', 'Prova_2', 'Prova_3', 'Prova_4', 'Media']\n",
      "['110201', 'Antonio Carlos', '20', '6.5', '8.5', '7', '6', '7.0']\n",
      "['110212', 'Ana Beatriz', '20', '7', '7', '7', '8', '7.25']\n",
      "['110218', 'Carlos Vernes', '17', '7', '7', '7', '7', '7.0']\n",
      "['110307', 'Francisco Cunha', '20', '9', '8.5', '8.5', '10', '9.0']\n",
      "['110275', 'Sandra Rosa', '15', '6.5', '7.5', '7', '7', '7.0']\n",
      "['110281', 'Juliana Arruda', '18', '7.5', '7', '7.5', '8', '7.5']\n",
      "['110301', 'Joao Galo', '20', '5', '6.5', '7', '5', '5.875']\n",
      "['110263', 'JosÃ© Valente', '20', '10', '10', '10', '10', '10.0']\n",
      "['110271', 'Maria Ferreira', '19', '9.5', '8', '7', '10', '8.625']\n",
      "['110236', 'Adriana Tavares', '20', '8', '8', '8', '8', '8.0']\n"
     ]
    }
   ],
   "source": [
    "def CriaMedia(nome,modo):\n",
    "\n",
    "    with open(nome,modo) as arq_csv:\n",
    "        \n",
    "        with open(\"alunos_copia_media.csv\",\"w\",newline='') as arc_copia_csv: \n",
    "            copia=csv.writer(arc_copia_csv)\n",
    "            leitor=csv.reader(arq_csv)\n",
    "            \n",
    "            header = next(leitor)\n",
    "            \n",
    "            header.append('Media')\n",
    "            copia.writerow(header)\n",
    "\n",
    "            for linha in leitor:\n",
    "                lint=[]\n",
    "                nl=linha.copy()\n",
    "\n",
    "                for el in range (3,7):\n",
    "                    lint.append(float(linha[el]))\n",
    "\n",
    "                nl.append(sum(lint)/len(lint))\n",
    "                #print(nl)\n",
    "                copia.writerow(nl)\n",
    "\n",
    "        arc_copia_csv.close()  \n",
    "    \n",
    "    arq_csv.close()  \n",
    "        \n",
    "        \n",
    "CriaMedia(\"alunos_copia.csv\",\"r\")\n",
    "\n",
    "ExibeCsv(\"alunos_copia_media.csv\")\n"
   ]
  },
  {
   "cell_type": "markdown",
   "id": "f49d566e",
   "metadata": {},
   "source": [
    "#### 4 - Você conhece Star Wars? Se trata, obviamente, da famosa saga espacial criada por George Lucas em 1977 e que deu origem a símbolos do cinema e da cultura pop com o imponente vilão Darth Vader ou o simpático robô R2-D2. A ideia desse exercício é justamente extrair informações do personagem Darth Vader através de uma API de Star Wars chamada SWAPI.\n",
    "Utilize a URL \"https://swapi.dev/api/people/4/\" para fazer a requisição dos\n",
    "dados de Darth Vader e extraia as informações \"name\" (nome), \"height\"\n",
    "(altura), \"mass\" (massa) e \"birth_year\" (ano de nascimento) e imprima cada\n",
    "dado em uma linha.\n",
    "Dica: caso não se lembre de como fazer isso, assista novamente a aula sobre\n",
    "API porque o exemplo da aula pode te ajudar."
   ]
  },
  {
   "cell_type": "code",
   "execution_count": null,
   "id": "b83f28c0",
   "metadata": {},
   "outputs": [],
   "source": []
  }
 ],
 "metadata": {
  "kernelspec": {
   "display_name": "Python 3 (ipykernel)",
   "language": "python",
   "name": "python3"
  },
  "language_info": {
   "codemirror_mode": {
    "name": "ipython",
    "version": 3
   },
   "file_extension": ".py",
   "mimetype": "text/x-python",
   "name": "python",
   "nbconvert_exporter": "python",
   "pygments_lexer": "ipython3",
   "version": "3.9.12"
  }
 },
 "nbformat": 4,
 "nbformat_minor": 5
}
